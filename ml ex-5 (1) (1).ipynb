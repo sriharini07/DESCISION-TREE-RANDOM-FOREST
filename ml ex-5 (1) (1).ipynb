{
 "cells": [
  {
   "cell_type": "markdown",
   "id": "b5aaeca7",
   "metadata": {},
   "source": [
    "Dataset description\n",
    "\n",
    "This compiled dataset pulled from four other datasets linked by time and place, and was built to find signals correlated to increased suicide rates among different cohorts globally, across the socio-economic spectrum.\" This data set contains a combination of numerical and categorical features:\n",
    "\n",
    "categorical\n",
    "\n",
    "Country Year: 1985 to 2016 Sex: Male/female Age: Five age groups Generation\n",
    "\n",
    "Numerical\n",
    "\n",
    "Population Number of Suicides: Suicide incidences Suicides per 100k people:normalized version of suicide incidences GDP for year: Gross Domestic Product(a measure of economic development) GDP per capita for year: GDP/population HDI for year : Human Development Index"
   ]
  },
  {
   "cell_type": "markdown",
   "id": "cad51cf7",
   "metadata": {},
   "source": [
    "# Import Libraries"
   ]
  },
  {
   "cell_type": "code",
   "execution_count": 1,
   "id": "e321b50b",
   "metadata": {},
   "outputs": [],
   "source": [
    "import numpy as np \n",
    "import pandas as pd \n",
    "import matplotlib.pyplot as plt \n",
    "import seaborn as sns \n",
    "%matplotlib inline"
   ]
  },
  {
   "cell_type": "code",
   "execution_count": 2,
   "id": "c52fcf75",
   "metadata": {},
   "outputs": [],
   "source": [
    "import warnings\n",
    "\n",
    "warnings.filterwarnings('ignore')"
   ]
  },
  {
   "cell_type": "code",
   "execution_count": 3,
   "id": "05032301",
   "metadata": {},
   "outputs": [],
   "source": [
    "from sklearn.preprocessing import StandardScaler"
   ]
  },
  {
   "cell_type": "code",
   "execution_count": 4,
   "id": "99646cae",
   "metadata": {},
   "outputs": [],
   "source": [
    "from sklearn.model_selection import train_test_split"
   ]
  },
  {
   "cell_type": "markdown",
   "id": "43d36bb6",
   "metadata": {},
   "source": [
    "# Import Dataset"
   ]
  },
  {
   "cell_type": "code",
   "execution_count": 5,
   "id": "8209a93e",
   "metadata": {},
   "outputs": [],
   "source": [
    "df = pd.read_csv('C:/Users/User/OneDrive/Desktop/master.csv')"
   ]
  },
  {
   "cell_type": "markdown",
   "id": "801891cc",
   "metadata": {},
   "source": [
    "# EDA"
   ]
  },
  {
   "cell_type": "code",
   "execution_count": 6,
   "id": "ddfceebd",
   "metadata": {},
   "outputs": [
    {
     "data": {
      "text/plain": [
       "(27820, 12)"
      ]
     },
     "execution_count": 6,
     "metadata": {},
     "output_type": "execute_result"
    }
   ],
   "source": [
    "df.shape"
   ]
  },
  {
   "cell_type": "markdown",
   "id": "b21786a1",
   "metadata": {},
   "source": [
    "We can see that there are 27820 instances and 12 variables in the data set."
   ]
  },
  {
   "cell_type": "code",
   "execution_count": 7,
   "id": "7f8dd975",
   "metadata": {},
   "outputs": [
    {
     "data": {
      "text/html": [
       "<div>\n",
       "<style scoped>\n",
       "    .dataframe tbody tr th:only-of-type {\n",
       "        vertical-align: middle;\n",
       "    }\n",
       "\n",
       "    .dataframe tbody tr th {\n",
       "        vertical-align: top;\n",
       "    }\n",
       "\n",
       "    .dataframe thead th {\n",
       "        text-align: right;\n",
       "    }\n",
       "</style>\n",
       "<table border=\"1\" class=\"dataframe\">\n",
       "  <thead>\n",
       "    <tr style=\"text-align: right;\">\n",
       "      <th></th>\n",
       "      <th>country</th>\n",
       "      <th>year</th>\n",
       "      <th>sex</th>\n",
       "      <th>age</th>\n",
       "      <th>suicides_no</th>\n",
       "      <th>population</th>\n",
       "      <th>suicidesper100k</th>\n",
       "      <th>country-year</th>\n",
       "      <th>yearlyHDI</th>\n",
       "      <th>GDPpyear</th>\n",
       "      <th>GDPpcapita</th>\n",
       "      <th>generation</th>\n",
       "    </tr>\n",
       "  </thead>\n",
       "  <tbody>\n",
       "    <tr>\n",
       "      <th>0</th>\n",
       "      <td>Albania</td>\n",
       "      <td>1987</td>\n",
       "      <td>male</td>\n",
       "      <td>15-24 years</td>\n",
       "      <td>21</td>\n",
       "      <td>312900</td>\n",
       "      <td>6.71</td>\n",
       "      <td>Albania1987</td>\n",
       "      <td>NaN</td>\n",
       "      <td>2,156,624,900</td>\n",
       "      <td>796</td>\n",
       "      <td>Generation X</td>\n",
       "    </tr>\n",
       "    <tr>\n",
       "      <th>1</th>\n",
       "      <td>Albania</td>\n",
       "      <td>1987</td>\n",
       "      <td>male</td>\n",
       "      <td>35-54 years</td>\n",
       "      <td>16</td>\n",
       "      <td>308000</td>\n",
       "      <td>5.19</td>\n",
       "      <td>Albania1987</td>\n",
       "      <td>NaN</td>\n",
       "      <td>2,156,624,900</td>\n",
       "      <td>796</td>\n",
       "      <td>Silent</td>\n",
       "    </tr>\n",
       "    <tr>\n",
       "      <th>2</th>\n",
       "      <td>Albania</td>\n",
       "      <td>1987</td>\n",
       "      <td>female</td>\n",
       "      <td>15-24 years</td>\n",
       "      <td>14</td>\n",
       "      <td>289700</td>\n",
       "      <td>4.83</td>\n",
       "      <td>Albania1987</td>\n",
       "      <td>NaN</td>\n",
       "      <td>2,156,624,900</td>\n",
       "      <td>796</td>\n",
       "      <td>Generation X</td>\n",
       "    </tr>\n",
       "    <tr>\n",
       "      <th>3</th>\n",
       "      <td>Albania</td>\n",
       "      <td>1987</td>\n",
       "      <td>male</td>\n",
       "      <td>75+ years</td>\n",
       "      <td>1</td>\n",
       "      <td>21800</td>\n",
       "      <td>4.59</td>\n",
       "      <td>Albania1987</td>\n",
       "      <td>NaN</td>\n",
       "      <td>2,156,624,900</td>\n",
       "      <td>796</td>\n",
       "      <td>G.I. Generation</td>\n",
       "    </tr>\n",
       "    <tr>\n",
       "      <th>4</th>\n",
       "      <td>Albania</td>\n",
       "      <td>1987</td>\n",
       "      <td>male</td>\n",
       "      <td>25-34 years</td>\n",
       "      <td>9</td>\n",
       "      <td>274300</td>\n",
       "      <td>3.28</td>\n",
       "      <td>Albania1987</td>\n",
       "      <td>NaN</td>\n",
       "      <td>2,156,624,900</td>\n",
       "      <td>796</td>\n",
       "      <td>Boomers</td>\n",
       "    </tr>\n",
       "  </tbody>\n",
       "</table>\n",
       "</div>"
      ],
      "text/plain": [
       "   country  year     sex          age  suicides_no  population  \\\n",
       "0  Albania  1987    male  15-24 years           21      312900   \n",
       "1  Albania  1987    male  35-54 years           16      308000   \n",
       "2  Albania  1987  female  15-24 years           14      289700   \n",
       "3  Albania  1987    male    75+ years            1       21800   \n",
       "4  Albania  1987    male  25-34 years            9      274300   \n",
       "\n",
       "   suicidesper100k country-year  yearlyHDI       GDPpyear  GDPpcapita  \\\n",
       "0             6.71  Albania1987        NaN  2,156,624,900         796   \n",
       "1             5.19  Albania1987        NaN  2,156,624,900         796   \n",
       "2             4.83  Albania1987        NaN  2,156,624,900         796   \n",
       "3             4.59  Albania1987        NaN  2,156,624,900         796   \n",
       "4             3.28  Albania1987        NaN  2,156,624,900         796   \n",
       "\n",
       "        generation  \n",
       "0     Generation X  \n",
       "1           Silent  \n",
       "2     Generation X  \n",
       "3  G.I. Generation  \n",
       "4          Boomers  "
      ]
     },
     "execution_count": 7,
     "metadata": {},
     "output_type": "execute_result"
    }
   ],
   "source": [
    "df.columns = ['country', 'year', 'sex', 'age', 'suicides_no', 'population','suicidesper100k',\n",
    "                      'country-year', 'yearlyHDI', 'GDPpyear', 'GDPpcapita', 'generation']\n",
    "\n",
    "df.head()"
   ]
  },
  {
   "cell_type": "markdown",
   "id": "781146da",
   "metadata": {},
   "source": [
    "The original data set contains data from more than 100 countries during 1985-2016. I've decided to limit the number of countries to make the analysis more insightful. I've chosen 40 countries from different parts of the world that I believe are a good sample of the different regions."
   ]
  },
  {
   "cell_type": "code",
   "execution_count": 8,
   "id": "3fe9976b",
   "metadata": {},
   "outputs": [],
   "source": [
    "countrynames = [\n",
    "    'Argentina',\n",
    "    'Armenia',\n",
    "    'Australia',\n",
    "    'Austria',\n",
    "    'Belgium',\n",
    "    'Brazil',\n",
    "    'Bulgaria',\n",
    "    'Canada',\n",
    "    'Chile',\n",
    "    'Colombia',\n",
    "    'Croatia',\n",
    "    'Cuba',\n",
    "    'Czech Republic',\n",
    "    'Denmark',\n",
    "    'Finland',\n",
    "    'France',\n",
    "    'Germany',\n",
    "    'Greece',\n",
    "    'Hungary',\n",
    "    'Iceland',\n",
    "    'Ireland',\n",
    "    'Israel',\n",
    "    'Italy',\n",
    "    'Japan',\n",
    "    'Mexico',\n",
    "    'Netherlands',\n",
    "    'New Zealand',\n",
    "    'Norway',\n",
    "    'Poland',\n",
    "    'Portugal',\n",
    "    'Romania',\n",
    "    'Russian Federation',\n",
    "    'South Africa',\n",
    "    'Spain',\n",
    "    'Sweden',\n",
    "    'Switzerland',\n",
    "    'Thailand', \n",
    "    'Turkmenistan',\n",
    "    'Ukraine',\n",
    "    'United Kingdom', \n",
    "    'United States']"
   ]
  },
  {
   "cell_type": "code",
   "execution_count": 9,
   "id": "86020e4b",
   "metadata": {},
   "outputs": [
    {
     "data": {
      "text/plain": [
       "Text(0.5, 0, 'Suicides per 100K')"
      ]
     },
     "execution_count": 9,
     "metadata": {},
     "output_type": "execute_result"
    },
    {
     "data": {
      "image/png": "[encoded data removed]",
      "text/plain": [
       "<Figure size 576x432 with 1 Axes>"
      ]
     },
     "metadata": {
      "needs_background": "light"
     },
     "output_type": "display_data"
    }
   ],
   "source": [
    "col = plt.cm.Spectral(np.linspace(0, 1, 20))\n",
    "\n",
    "plt.figure(figsize=(8, 6))\n",
    "\n",
    "agedistf = pd.DataFrame(df.groupby('sex').get_group('female').groupby('age').suicides_no.sum())\n",
    "\n",
    "agedistm = pd.DataFrame(df.groupby('sex').get_group('male').groupby('age').suicides_no.sum())\n",
    "\n",
    "plt.bar(agedistm.index, agedistm.suicides_no, color=col[18])\n",
    "plt.bar(agedistf.index, agedistf.suicides_no, color=col[7])\n",
    "plt.legend(['male', 'female'], fontsize=16)\n",
    "plt.ylabel('Count', fontsize=14)\n",
    "plt.xlabel('Suicides per 100K', fontsize=14)"
   ]
  },
  {
   "cell_type": "markdown",
   "id": "f80f79da",
   "metadata": {},
   "source": [
    "<center>FIG.NO-1</center>"
   ]
  },
  {
   "cell_type": "markdown",
   "id": "064e0713",
   "metadata": {},
   "source": [
    "Male population around the age of 35-54 years are more prone to suicidal attacks."
   ]
  },
  {
   "cell_type": "code",
   "execution_count": 10,
   "id": "0e4f7e48",
   "metadata": {},
   "outputs": [
    {
     "data": {
      "image/png": "[encoded data removed]",
      "text/plain": [
       "<Figure size 864x1080 with 2 Axes>"
      ]
     },
     "metadata": {
      "needs_background": "light"
     },
     "output_type": "display_data"
    }
   ],
   "source": [
    "plt.figure(figsize=(12, 15))\n",
    "\n",
    "\n",
    "plt.subplot(211)\n",
    "df.groupby(['country']).suicidesper100k.mean().nlargest(10).plot(kind='barh', color=col)\n",
    "plt.xlabel('Average Suicides/100k', size=20)\n",
    "plt.ylabel('Country', fontsize=20)\n",
    "plt.title('Top 10 countries', fontsize=30)\n",
    "\n",
    "plt.subplot(212)\n",
    "df.groupby(['country']).suicides_no.mean().nlargest(10).plot(kind='barh', color=col)\n",
    "plt.xlabel('Average Suicides_no', size=20)\n",
    "plt.ylabel('Country', fontsize=20);"
   ]
  },
  {
   "cell_type": "markdown",
   "id": "03229989",
   "metadata": {},
   "source": [
    "<center>FIG.NO-2</center>"
   ]
  },
  {
   "cell_type": "markdown",
   "id": "6c1cc9af",
   "metadata": {},
   "source": [
    "It can be seen that Russian Federation holds the top position of having more number of suicides."
   ]
  },
  {
   "cell_type": "code",
   "execution_count": 11,
   "id": "2387e426",
   "metadata": {},
   "outputs": [
    {
     "data": {
      "text/plain": [
       "<matplotlib.legend.Legend at 0x17e68bf50d0>"
      ]
     },
     "execution_count": 11,
     "metadata": {},
     "output_type": "execute_result"
    },
    {
     "data": {
      "image/png": "[encoded data removed]",
      "text/plain": [
       "<Figure size 720x1152 with 3 Axes>"
      ]
     },
     "metadata": {
      "needs_background": "light"
     },
     "output_type": "display_data"
    }
   ],
   "source": [
    "plt.figure(figsize=(10, 16))\n",
    "\n",
    "plt.subplot(311)\n",
    "\n",
    "sns.barplot(x='sex', y='population', hue='age', data=df, palette=\"Blues\")\n",
    "plt.xticks(ha='right', fontsize=20)\n",
    "plt.ylabel('Population', fontsize=20)\n",
    "plt.xlabel('Sex', fontsize=20)\n",
    "plt.legend(fontsize=14, loc='best')\n",
    "\n",
    "plt.subplot(313)\n",
    "\n",
    "sns.barplot(x='sex', y='suicidesper100k', hue='age', data=df,palette=\"Blues\")\n",
    "plt.xticks(ha='right', fontsize=20);\n",
    "plt.ylabel('suicidesper100k',fontsize=20);\n",
    "plt.xlabel('Sex',fontsize=20);\n",
    "plt.legend(fontsize=14);\n",
    "\n",
    "plt.subplot(312)\n",
    "sns.barplot(x='sex', y='suicides_no', hue='age', data=df, palette=\"Blues\")\n",
    "plt.xticks(ha='right', fontsize=20)\n",
    "plt.ylabel('suicides incidences', fontsize=20)\n",
    "plt.xlabel('Sex', fontsize=20)\n",
    "plt.legend(fontsize=14)"
   ]
  },
  {
   "cell_type": "markdown",
   "id": "1aa7faa9",
   "metadata": {},
   "source": [
    "<center>FIG.NO-3</center>"
   ]
  },
  {
   "cell_type": "markdown",
   "id": "1bf4bba9",
   "metadata": {},
   "source": [
    "Suicide incidences are more among the age group of 35-54 years in both the genders.\n",
    "\n",
    "In population perspective, 35-54 years age group are more prone to suicides."
   ]
  },
  {
   "cell_type": "markdown",
   "id": "9f19c12b",
   "metadata": {},
   "source": [
    "Importing the suicide data set with extra features added from WDI database"
   ]
  },
  {
   "cell_type": "code",
   "execution_count": 12,
   "id": "fb660ea7",
   "metadata": {},
   "outputs": [],
   "source": [
    "extra_data = pd.read_csv('C:/Users/User/OneDrive/Desktop/suicidedataextrafestures.csv')\n",
    "\n",
    "extra_data.columns = [\n",
    "    'country', 'year', 'sex', 'age', 'suicides_no', 'population','suicidesper100k', 'country-year', 'yearlyHDI',\n",
    "    'GDPpyear', 'GDPpcapita', 'generation', 'suicide%', 'Internetusers', 'Expenses', 'employeecompensation',\n",
    "    'Unemployment', 'Physiciansp1000', 'Legalrights', 'Laborforcetotal', 'Lifeexpectancy', 'Mobilesubscriptionsp100',\n",
    "    'Refugees', 'Selfemployed', 'electricityacess', 'secondarycompletion']"
   ]
  },
  {
   "cell_type": "code",
   "execution_count": 13,
   "id": "78c2bda6",
   "metadata": {},
   "outputs": [
    {
     "data": {
      "text/html": [
       "<div>\n",
       "<style scoped>\n",
       "    .dataframe tbody tr th:only-of-type {\n",
       "        vertical-align: middle;\n",
       "    }\n",
       "\n",
       "    .dataframe tbody tr th {\n",
       "        vertical-align: top;\n",
       "    }\n",
       "\n",
       "    .dataframe thead th {\n",
       "        text-align: right;\n",
       "    }\n",
       "</style>\n",
       "<table border=\"1\" class=\"dataframe\">\n",
       "  <thead>\n",
       "    <tr style=\"text-align: right;\">\n",
       "      <th></th>\n",
       "      <th>country</th>\n",
       "      <th>year</th>\n",
       "      <th>sex</th>\n",
       "      <th>age</th>\n",
       "      <th>suicides_no</th>\n",
       "      <th>population</th>\n",
       "      <th>suicidesper100k</th>\n",
       "      <th>country-year</th>\n",
       "      <th>yearlyHDI</th>\n",
       "      <th>GDPpyear</th>\n",
       "      <th>...</th>\n",
       "      <th>Unemployment</th>\n",
       "      <th>Physiciansp1000</th>\n",
       "      <th>Legalrights</th>\n",
       "      <th>Laborforcetotal</th>\n",
       "      <th>Lifeexpectancy</th>\n",
       "      <th>Mobilesubscriptionsp100</th>\n",
       "      <th>Refugees</th>\n",
       "      <th>Selfemployed</th>\n",
       "      <th>electricityacess</th>\n",
       "      <th>secondarycompletion</th>\n",
       "    </tr>\n",
       "  </thead>\n",
       "  <tbody>\n",
       "    <tr>\n",
       "      <th>0</th>\n",
       "      <td>Argentina</td>\n",
       "      <td>1985</td>\n",
       "      <td>male</td>\n",
       "      <td>75+ years</td>\n",
       "      <td>202</td>\n",
       "      <td>363000</td>\n",
       "      <td>55.65</td>\n",
       "      <td>Argentina1985</td>\n",
       "      <td>0.694</td>\n",
       "      <td>8.841667e+10</td>\n",
       "      <td>...</td>\n",
       "      <td>0.0</td>\n",
       "      <td>0.0</td>\n",
       "      <td>0.0</td>\n",
       "      <td>0</td>\n",
       "      <td>0.0</td>\n",
       "      <td>0.0</td>\n",
       "      <td>0.0</td>\n",
       "      <td>0.0</td>\n",
       "      <td>0.0</td>\n",
       "      <td>0.0</td>\n",
       "    </tr>\n",
       "    <tr>\n",
       "      <th>1</th>\n",
       "      <td>Argentina</td>\n",
       "      <td>1985</td>\n",
       "      <td>male</td>\n",
       "      <td>55-74 years</td>\n",
       "      <td>485</td>\n",
       "      <td>1997000</td>\n",
       "      <td>24.29</td>\n",
       "      <td>Argentina1985</td>\n",
       "      <td>0.694</td>\n",
       "      <td>8.841667e+10</td>\n",
       "      <td>...</td>\n",
       "      <td>0.0</td>\n",
       "      <td>0.0</td>\n",
       "      <td>0.0</td>\n",
       "      <td>0</td>\n",
       "      <td>0.0</td>\n",
       "      <td>0.0</td>\n",
       "      <td>0.0</td>\n",
       "      <td>0.0</td>\n",
       "      <td>0.0</td>\n",
       "      <td>0.0</td>\n",
       "    </tr>\n",
       "    <tr>\n",
       "      <th>2</th>\n",
       "      <td>Argentina</td>\n",
       "      <td>1985</td>\n",
       "      <td>male</td>\n",
       "      <td>35-54 years</td>\n",
       "      <td>414</td>\n",
       "      <td>3346300</td>\n",
       "      <td>12.37</td>\n",
       "      <td>Argentina1985</td>\n",
       "      <td>0.694</td>\n",
       "      <td>8.841667e+10</td>\n",
       "      <td>...</td>\n",
       "      <td>0.0</td>\n",
       "      <td>0.0</td>\n",
       "      <td>0.0</td>\n",
       "      <td>0</td>\n",
       "      <td>0.0</td>\n",
       "      <td>0.0</td>\n",
       "      <td>0.0</td>\n",
       "      <td>0.0</td>\n",
       "      <td>0.0</td>\n",
       "      <td>0.0</td>\n",
       "    </tr>\n",
       "    <tr>\n",
       "      <th>3</th>\n",
       "      <td>Argentina</td>\n",
       "      <td>1985</td>\n",
       "      <td>female</td>\n",
       "      <td>55-74 years</td>\n",
       "      <td>210</td>\n",
       "      <td>2304000</td>\n",
       "      <td>9.11</td>\n",
       "      <td>Argentina1985</td>\n",
       "      <td>0.694</td>\n",
       "      <td>8.841667e+10</td>\n",
       "      <td>...</td>\n",
       "      <td>0.0</td>\n",
       "      <td>0.0</td>\n",
       "      <td>0.0</td>\n",
       "      <td>0</td>\n",
       "      <td>0.0</td>\n",
       "      <td>0.0</td>\n",
       "      <td>0.0</td>\n",
       "      <td>0.0</td>\n",
       "      <td>0.0</td>\n",
       "      <td>0.0</td>\n",
       "    </tr>\n",
       "    <tr>\n",
       "      <th>4</th>\n",
       "      <td>Argentina</td>\n",
       "      <td>1985</td>\n",
       "      <td>male</td>\n",
       "      <td>25-34 years</td>\n",
       "      <td>177</td>\n",
       "      <td>2234200</td>\n",
       "      <td>7.92</td>\n",
       "      <td>Argentina1985</td>\n",
       "      <td>0.694</td>\n",
       "      <td>8.841667e+10</td>\n",
       "      <td>...</td>\n",
       "      <td>0.0</td>\n",
       "      <td>0.0</td>\n",
       "      <td>0.0</td>\n",
       "      <td>0</td>\n",
       "      <td>0.0</td>\n",
       "      <td>0.0</td>\n",
       "      <td>0.0</td>\n",
       "      <td>0.0</td>\n",
       "      <td>0.0</td>\n",
       "      <td>0.0</td>\n",
       "    </tr>\n",
       "  </tbody>\n",
       "</table>\n",
       "<p>5 rows × 26 columns</p>\n",
       "</div>"
      ],
      "text/plain": [
       "     country  year     sex          age  suicides_no  population  \\\n",
       "0  Argentina  1985    male    75+ years          202      363000   \n",
       "1  Argentina  1985    male  55-74 years          485     1997000   \n",
       "2  Argentina  1985    male  35-54 years          414     3346300   \n",
       "3  Argentina  1985  female  55-74 years          210     2304000   \n",
       "4  Argentina  1985    male  25-34 years          177     2234200   \n",
       "\n",
       "   suicidesper100k   country-year  yearlyHDI      GDPpyear  ...  Unemployment  \\\n",
       "0            55.65  Argentina1985      0.694  8.841667e+10  ...           0.0   \n",
       "1            24.29  Argentina1985      0.694  8.841667e+10  ...           0.0   \n",
       "2            12.37  Argentina1985      0.694  8.841667e+10  ...           0.0   \n",
       "3             9.11  Argentina1985      0.694  8.841667e+10  ...           0.0   \n",
       "4             7.92  Argentina1985      0.694  8.841667e+10  ...           0.0   \n",
       "\n",
       "  Physiciansp1000  Legalrights  Laborforcetotal  Lifeexpectancy  \\\n",
       "0             0.0          0.0                0             0.0   \n",
       "1             0.0          0.0                0             0.0   \n",
       "2             0.0          0.0                0             0.0   \n",
       "3             0.0          0.0                0             0.0   \n",
       "4             0.0          0.0                0             0.0   \n",
       "\n",
       "   Mobilesubscriptionsp100  Refugees  Selfemployed  electricityacess  \\\n",
       "0                      0.0       0.0           0.0               0.0   \n",
       "1                      0.0       0.0           0.0               0.0   \n",
       "2                      0.0       0.0           0.0               0.0   \n",
       "3                      0.0       0.0           0.0               0.0   \n",
       "4                      0.0       0.0           0.0               0.0   \n",
       "\n",
       "   secondarycompletion  \n",
       "0                  0.0  \n",
       "1                  0.0  \n",
       "2                  0.0  \n",
       "3                  0.0  \n",
       "4                  0.0  \n",
       "\n",
       "[5 rows x 26 columns]"
      ]
     },
     "execution_count": 13,
     "metadata": {},
     "output_type": "execute_result"
    }
   ],
   "source": [
    "extra_data.head()"
   ]
  },
  {
   "cell_type": "code",
   "execution_count": 14,
   "id": "09cb80d7",
   "metadata": {},
   "outputs": [],
   "source": [
    "df1 = extra_data.copy()\n",
    "df = df1.iloc[np.where(df1.country == countrynames[0])]\n",
    "for i, x in enumerate(countrynames[1:]):\n",
    "    df = df.append(df1.iloc[np.where(df1.country == x)])\n",
    "\n",
    "df = df[df.year >= 1995]\n",
    "df = df[df.year <= 2013]"
   ]
  },
  {
   "cell_type": "code",
   "execution_count": 15,
   "id": "6a8e1968",
   "metadata": {},
   "outputs": [
    {
     "name": "stdout",
     "output_type": "stream",
     "text": [
      "<class 'pandas.core.frame.DataFrame'>\n",
      "Int64Index: 9216 entries, 120 to 14821\n",
      "Data columns (total 26 columns):\n",
      " #   Column                   Non-Null Count  Dtype  \n",
      "---  ------                   --------------  -----  \n",
      " 0   country                  9216 non-null   object \n",
      " 1   year                     9216 non-null   int64  \n",
      " 2   sex                      9216 non-null   object \n",
      " 3   age                      9216 non-null   object \n",
      " 4   suicides_no              9216 non-null   int64  \n",
      " 5   population               9216 non-null   int64  \n",
      " 6   suicidesper100k          9216 non-null   float64\n",
      " 7   country-year             9216 non-null   object \n",
      " 8   yearlyHDI                3264 non-null   float64\n",
      " 9   GDPpyear                 9216 non-null   float64\n",
      " 10  GDPpcapita               9216 non-null   int64  \n",
      " 11  generation               9216 non-null   object \n",
      " 12  suicide%                 9216 non-null   float64\n",
      " 13  Internetusers            9132 non-null   float64\n",
      " 14  Expenses                 8064 non-null   float64\n",
      " 15  employeecompensation     8016 non-null   float64\n",
      " 16  Unemployment             9216 non-null   float64\n",
      " 17  Physiciansp1000          7068 non-null   float64\n",
      " 18  Legalrights              456 non-null    float64\n",
      " 19  Laborforcetotal          9216 non-null   int64  \n",
      " 20  Lifeexpectancy           9216 non-null   float64\n",
      " 21  Mobilesubscriptionsp100  9216 non-null   float64\n",
      " 22  Refugees                 9084 non-null   float64\n",
      " 23  Selfemployed             9216 non-null   float64\n",
      " 24  electricityacess         8904 non-null   float64\n",
      " 25  secondarycompletion      3804 non-null   float64\n",
      "dtypes: float64(16), int64(5), object(5)\n",
      "memory usage: 1.9+ MB\n"
     ]
    }
   ],
   "source": [
    "df.info()"
   ]
  },
  {
   "cell_type": "code",
   "execution_count": 16,
   "id": "59dc3586",
   "metadata": {},
   "outputs": [
    {
     "name": "stdout",
     "output_type": "stream",
     "text": [
      "Argentina             228\n",
      "Norway                228\n",
      "Israel                228\n",
      "Italy                 228\n",
      "Japan                 228\n",
      "Mexico                228\n",
      "Netherlands           228\n",
      "New Zealand           228\n",
      "Romania               228\n",
      "Hungary               228\n",
      "Russian Federation    228\n",
      "Spain                 228\n",
      "Sweden                228\n",
      "Switzerland           228\n",
      "Turkmenistan          228\n",
      "United Kingdom        228\n",
      "Iceland               228\n",
      "Ireland               228\n",
      "Greece                228\n",
      "Colombia              228\n",
      "Austria               228\n",
      "Belgium               228\n",
      "Brazil                228\n",
      "Bulgaria              228\n",
      "Canada                228\n",
      "Chile                 228\n",
      "Germany               228\n",
      "United States         228\n",
      "Croatia               228\n",
      "Cuba                  228\n",
      "Czech Republic        228\n",
      "Denmark               228\n",
      "Finland               228\n",
      "France                228\n",
      "South Africa          216\n",
      "Thailand              216\n",
      "Ukraine               216\n",
      "Australia             216\n",
      "Poland                204\n",
      "Armenia               204\n",
      "Portugal              192\n",
      "Name: country, dtype: int64\n",
      "male      4608\n",
      "female    4608\n",
      "Name: sex, dtype: int64\n",
      "75+ years      1536\n",
      "55-74 years    1536\n",
      "35-54 years    1536\n",
      "25-34 years    1536\n",
      "15-24 years    1536\n",
      "5-14 years     1536\n",
      "Name: age, dtype: int64\n",
      "Argentina1995        12\n",
      "Argentina1996        12\n",
      "New Zealand2010      12\n",
      "New Zealand2011      12\n",
      "New Zealand2012      12\n",
      "                     ..\n",
      "Denmark2009          12\n",
      "Denmark2010          12\n",
      "Denmark2011          12\n",
      "Denmark2012          12\n",
      "United States2013    12\n",
      "Name: country-year, Length: 768, dtype: int64\n",
      "Silent             2342\n",
      "Millenials         2258\n",
      "Generation X       2104\n",
      "Boomers            1454\n",
      "Generation Z        572\n",
      "G.I. Generation     486\n",
      "Name: generation, dtype: int64\n"
     ]
    }
   ],
   "source": [
    "#frequency count of categorical variables\n",
    "col_names = ['country', 'sex', 'age', 'country-year', 'generation']\n",
    "\n",
    "\n",
    "for col in col_names:\n",
    "    \n",
    "    print(df[col].value_counts())"
   ]
  },
  {
   "cell_type": "markdown",
   "id": "2157ff5b",
   "metadata": {},
   "source": [
    "From all the extra features added from the WDI database, I'm using 11 features for exploring. These are basically the features with fewer null values.\n",
    "\n",
    "totalfeatures: 'country', 'year','GDPpyear','GDPpcapita','employeecompensation','Unemployment', 'Lifeexpectancy','Refugees','Selfemployed','Internetusers','population'.\n",
    "\n",
    "I'm aslo lifting the fine subsample level of sex and age group. I'm creating a new pandas data frame \"total\", with a new column \"suicides\" as the total value of Suicides per 100k of population per country per year, calculated by summing over both sexes and age groups."
   ]
  },
  {
   "cell_type": "code",
   "execution_count": 17,
   "id": "cf830c09",
   "metadata": {},
   "outputs": [],
   "source": [
    "features = ['country', 'year', 'GDPpyear', 'GDPpcapita', 'employeecompensation', 'Unemployment',\n",
    "            'Lifeexpectancy', 'Refugees', 'Selfemployed', 'Internetusers']\n",
    "\n",
    "total = df[features].groupby('country').get_group(countrynames[0]).groupby('year').mean()\n",
    "total['Suicides'] = df[['country', 'year', 'suicidesper100k']].groupby('country').get_group(countrynames[0]).groupby('year').sum()\n",
    "total['population'] = df[['country', 'year', 'population']].groupby('country').get_group(countrynames[0]).groupby('year').sum()\n",
    "\n",
    "total['country'] = countrynames[0]\n",
    "\n",
    "for i, x in enumerate(countrynames[1:]):\n",
    "    suicides = df[features].groupby('country').get_group(x).groupby('year').mean()\n",
    "    suicides['Suicides'] = df[['country', 'year', 'suicidesper100k']].groupby('country').get_group(x).groupby('year').sum()\n",
    "    total['population'] = df[['country', 'year', 'population']].groupby('country').get_group(x).groupby('year').sum()\n",
    "  \n",
    "    suicides['country'] = x\n",
    "    total = total.append(suicides)\n",
    "\n",
    "total.reset_index(inplace=True)\n",
    "sort = True"
   ]
  },
  {
   "cell_type": "code",
   "execution_count": 18,
   "id": "8ed5c6bf",
   "metadata": {},
   "outputs": [
    {
     "data": {
      "text/html": [
       "<div>\n",
       "<style scoped>\n",
       "    .dataframe tbody tr th:only-of-type {\n",
       "        vertical-align: middle;\n",
       "    }\n",
       "\n",
       "    .dataframe tbody tr th {\n",
       "        vertical-align: top;\n",
       "    }\n",
       "\n",
       "    .dataframe thead th {\n",
       "        text-align: right;\n",
       "    }\n",
       "</style>\n",
       "<table border=\"1\" class=\"dataframe\">\n",
       "  <thead>\n",
       "    <tr style=\"text-align: right;\">\n",
       "      <th></th>\n",
       "      <th>year</th>\n",
       "      <th>GDPpyear</th>\n",
       "      <th>GDPpcapita</th>\n",
       "      <th>employeecompensation</th>\n",
       "      <th>Unemployment</th>\n",
       "      <th>Lifeexpectancy</th>\n",
       "      <th>Refugees</th>\n",
       "      <th>Selfemployed</th>\n",
       "      <th>Internetusers</th>\n",
       "      <th>Suicides</th>\n",
       "      <th>population</th>\n",
       "      <th>country</th>\n",
       "    </tr>\n",
       "  </thead>\n",
       "  <tbody>\n",
       "    <tr>\n",
       "      <th>0</th>\n",
       "      <td>1995</td>\n",
       "      <td>2.580320e+11</td>\n",
       "      <td>8232.0</td>\n",
       "      <td>17.243447</td>\n",
       "      <td>18.799999</td>\n",
       "      <td>72.651</td>\n",
       "      <td>330.0</td>\n",
       "      <td>1.409</td>\n",
       "      <td>0.086277</td>\n",
       "      <td>119.97</td>\n",
       "      <td>243164200.0</td>\n",
       "      <td>Argentina</td>\n",
       "    </tr>\n",
       "    <tr>\n",
       "      <th>1</th>\n",
       "      <td>1996</td>\n",
       "      <td>2.721500e+11</td>\n",
       "      <td>8563.0</td>\n",
       "      <td>16.401037</td>\n",
       "      <td>17.110001</td>\n",
       "      <td>72.843</td>\n",
       "      <td>217.0</td>\n",
       "      <td>1.665</td>\n",
       "      <td>0.141955</td>\n",
       "      <td>118.03</td>\n",
       "      <td>245997800.0</td>\n",
       "      <td>Argentina</td>\n",
       "    </tr>\n",
       "    <tr>\n",
       "      <th>2</th>\n",
       "      <td>1997</td>\n",
       "      <td>2.928590e+11</td>\n",
       "      <td>9057.0</td>\n",
       "      <td>16.412140</td>\n",
       "      <td>14.820000</td>\n",
       "      <td>73.029</td>\n",
       "      <td>159.0</td>\n",
       "      <td>1.541</td>\n",
       "      <td>0.280340</td>\n",
       "      <td>111.40</td>\n",
       "      <td>248486400.0</td>\n",
       "      <td>Argentina</td>\n",
       "    </tr>\n",
       "    <tr>\n",
       "      <th>3</th>\n",
       "      <td>1998</td>\n",
       "      <td>2.989480e+11</td>\n",
       "      <td>9126.0</td>\n",
       "      <td>15.014755</td>\n",
       "      <td>12.650000</td>\n",
       "      <td>73.213</td>\n",
       "      <td>142.0</td>\n",
       "      <td>1.326</td>\n",
       "      <td>0.830767</td>\n",
       "      <td>116.93</td>\n",
       "      <td>251332500.0</td>\n",
       "      <td>Argentina</td>\n",
       "    </tr>\n",
       "    <tr>\n",
       "      <th>4</th>\n",
       "      <td>1999</td>\n",
       "      <td>2.835230e+11</td>\n",
       "      <td>8546.0</td>\n",
       "      <td>15.078509</td>\n",
       "      <td>14.050000</td>\n",
       "      <td>73.396</td>\n",
       "      <td>586.0</td>\n",
       "      <td>1.355</td>\n",
       "      <td>3.284482</td>\n",
       "      <td>117.19</td>\n",
       "      <td>253748671.0</td>\n",
       "      <td>Argentina</td>\n",
       "    </tr>\n",
       "  </tbody>\n",
       "</table>\n",
       "</div>"
      ],
      "text/plain": [
       "   year      GDPpyear  GDPpcapita  employeecompensation  Unemployment  \\\n",
       "0  1995  2.580320e+11      8232.0             17.243447     18.799999   \n",
       "1  1996  2.721500e+11      8563.0             16.401037     17.110001   \n",
       "2  1997  2.928590e+11      9057.0             16.412140     14.820000   \n",
       "3  1998  2.989480e+11      9126.0             15.014755     12.650000   \n",
       "4  1999  2.835230e+11      8546.0             15.078509     14.050000   \n",
       "\n",
       "   Lifeexpectancy  Refugees  Selfemployed  Internetusers  Suicides  \\\n",
       "0          72.651     330.0         1.409       0.086277    119.97   \n",
       "1          72.843     217.0         1.665       0.141955    118.03   \n",
       "2          73.029     159.0         1.541       0.280340    111.40   \n",
       "3          73.213     142.0         1.326       0.830767    116.93   \n",
       "4          73.396     586.0         1.355       3.284482    117.19   \n",
       "\n",
       "    population    country  \n",
       "0  243164200.0  Argentina  \n",
       "1  245997800.0  Argentina  \n",
       "2  248486400.0  Argentina  \n",
       "3  251332500.0  Argentina  \n",
       "4  253748671.0  Argentina  "
      ]
     },
     "execution_count": 18,
     "metadata": {},
     "output_type": "execute_result"
    }
   ],
   "source": [
    "total.head()"
   ]
  },
  {
   "cell_type": "code",
   "execution_count": 19,
   "id": "831291c5",
   "metadata": {},
   "outputs": [],
   "source": [
    "totalfeatures = ['country', 'year', 'GDPpyear', 'GDPpcapita', 'employeecompensation', 'Unemployment',\n",
    "                 'Lifeexpectancy', 'Refugees', 'Selfemployed', 'Internetusers', 'population']"
   ]
  },
  {
   "cell_type": "code",
   "execution_count": 20,
   "id": "6096b8c0",
   "metadata": {},
   "outputs": [
    {
     "data": {
      "text/plain": [
       "Text(0.5, 0, 'GDP')"
      ]
     },
     "execution_count": 20,
     "metadata": {},
     "output_type": "execute_result"
    },
    {
     "data": {
      "image/png": "[encoded data removed]",
      "text/plain": [
       "<Figure size 1440x576 with 2 Axes>"
      ]
     },
     "metadata": {
      "needs_background": "light"
     },
     "output_type": "display_data"
    }
   ],
   "source": [
    "plt.figure(figsize=(20, 8))\n",
    "plt.subplot(121)\n",
    "sns.distplot(total.Suicides, bins=15)\n",
    "plt.xlabel('total Suicides (summed over sex and age group) per 100K of population', fontsize=14)\n",
    "\n",
    "plt.subplot(122)\n",
    "plt.hist(total.GDPpcapita, bins=30)\n",
    "plt.xlabel('GDP', fontsize=14)"
   ]
  },
  {
   "cell_type": "markdown",
   "id": "df825d65",
   "metadata": {},
   "source": [
    "<center>FIG.NO-4</center>"
   ]
  },
  {
   "cell_type": "markdown",
   "id": "bcc60ed2",
   "metadata": {},
   "source": [
    "# Correlation for selected features"
   ]
  },
  {
   "cell_type": "code",
   "execution_count": 21,
   "id": "28214de5",
   "metadata": {},
   "outputs": [
    {
     "data": {
      "image/png": "[encoded data removed]",
      "text/plain": [
       "<Figure size 576x432 with 2 Axes>"
      ]
     },
     "metadata": {
      "needs_background": "light"
     },
     "output_type": "display_data"
    }
   ],
   "source": [
    "corr = total.corr()\n",
    "\n",
    "# Generate a mask for the upper triangle\n",
    "\n",
    "mask = np.zeros_like(corr, dtype=np.bool)\n",
    "mask[np.triu_indices_from(mask)] = True\n",
    "\n",
    "# Set up the matplotlib figure\n",
    "f, ax = plt.subplots(figsize=(8, 6))\n",
    "\n",
    "# Generate a custom diverging colormap\n",
    "cmap = sns.diverging_palette(220, 10, as_cmap=True)\n",
    "\n",
    "# Draw the heatmap with the mask and correct aspect ratio\n",
    "sns.heatmap(corr, mask=mask, cmap=cmap, vmax=1, vmin=-1, center=0,\n",
    "            square=True, linewidths=0.2, cbar_kws={\"shrink\": 0.8});"
   ]
  },
  {
   "cell_type": "markdown",
   "id": "87a30ff4",
   "metadata": {},
   "source": [
    "<center>FIG.NO-5</center>"
   ]
  },
  {
   "cell_type": "markdown",
   "id": "d90782fd",
   "metadata": {},
   "source": [
    "The feature \"Internetusers\" is strongly correlated with GDP features, as expected. \"Lifeexpectancy\" also shows strong corrlaiton with GDP per capital. This should be noted when evaluating feature importances from model outputs. Other features do not show strong correlations."
   ]
  },
  {
   "cell_type": "markdown",
   "id": "9e9e1753",
   "metadata": {},
   "source": [
    "# Preprocessing to remove nulls"
   ]
  },
  {
   "cell_type": "code",
   "execution_count": 22,
   "id": "bcde059e",
   "metadata": {},
   "outputs": [],
   "source": [
    "# Cleaning the data, replacing null values with appropriate replacements\n",
    "\n",
    "total.Internetusers.fillna(total.Internetusers. min(), inplace=True)\n",
    "total.Refugees.fillna(8, inplace=True)\n",
    "total.employeecompensation.fillna(total.employeecompensation.mean(), inplace=True)\n",
    "total.population.fillna(total.population.mean(), inplace=True)"
   ]
  },
  {
   "cell_type": "markdown",
   "id": "00bfc7ec",
   "metadata": {},
   "source": [
    "Binary classification for suicide risk\n",
    "\n",
    "I decided to perform a binary classification on the suicide data, by assigning risk classes based on the suicide incidences per 100k of the population as high/low suicide risk. Adding an extra column to the \"total\" data frame as 'risk'.\n",
    "\n",
    "Suicides<mean(Suicides) --> low risk --> class 0 Suicides>mean(Suicides) --> high risk --> class 1"
   ]
  },
  {
   "cell_type": "code",
   "execution_count": 23,
   "id": "71ed2b6f",
   "metadata": {},
   "outputs": [],
   "source": [
    "total['risk'] = total.Suicides.copy()\n",
    "\n",
    "total['risk'] = np.where(total.risk < total.Suicides.mean(), 0, 1)"
   ]
  },
  {
   "cell_type": "code",
   "execution_count": 24,
   "id": "1e1aafdb",
   "metadata": {},
   "outputs": [
    {
     "data": {
      "text/html": [
       "<div>\n",
       "<style scoped>\n",
       "    .dataframe tbody tr th:only-of-type {\n",
       "        vertical-align: middle;\n",
       "    }\n",
       "\n",
       "    .dataframe tbody tr th {\n",
       "        vertical-align: top;\n",
       "    }\n",
       "\n",
       "    .dataframe thead th {\n",
       "        text-align: right;\n",
       "    }\n",
       "</style>\n",
       "<table border=\"1\" class=\"dataframe\">\n",
       "  <thead>\n",
       "    <tr style=\"text-align: right;\">\n",
       "      <th></th>\n",
       "      <th>year</th>\n",
       "      <th>GDPpyear</th>\n",
       "      <th>GDPpcapita</th>\n",
       "      <th>employeecompensation</th>\n",
       "      <th>Unemployment</th>\n",
       "      <th>Lifeexpectancy</th>\n",
       "      <th>Refugees</th>\n",
       "      <th>Selfemployed</th>\n",
       "      <th>Internetusers</th>\n",
       "      <th>Suicides</th>\n",
       "      <th>population</th>\n",
       "      <th>country</th>\n",
       "      <th>risk</th>\n",
       "    </tr>\n",
       "  </thead>\n",
       "  <tbody>\n",
       "    <tr>\n",
       "      <th>0</th>\n",
       "      <td>1995</td>\n",
       "      <td>2.580320e+11</td>\n",
       "      <td>8232.0</td>\n",
       "      <td>17.243447</td>\n",
       "      <td>18.799999</td>\n",
       "      <td>72.651</td>\n",
       "      <td>330.0</td>\n",
       "      <td>1.409</td>\n",
       "      <td>0.086277</td>\n",
       "      <td>119.97</td>\n",
       "      <td>243164200.0</td>\n",
       "      <td>Argentina</td>\n",
       "      <td>0</td>\n",
       "    </tr>\n",
       "    <tr>\n",
       "      <th>1</th>\n",
       "      <td>1996</td>\n",
       "      <td>2.721500e+11</td>\n",
       "      <td>8563.0</td>\n",
       "      <td>16.401037</td>\n",
       "      <td>17.110001</td>\n",
       "      <td>72.843</td>\n",
       "      <td>217.0</td>\n",
       "      <td>1.665</td>\n",
       "      <td>0.141955</td>\n",
       "      <td>118.03</td>\n",
       "      <td>245997800.0</td>\n",
       "      <td>Argentina</td>\n",
       "      <td>0</td>\n",
       "    </tr>\n",
       "    <tr>\n",
       "      <th>2</th>\n",
       "      <td>1997</td>\n",
       "      <td>2.928590e+11</td>\n",
       "      <td>9057.0</td>\n",
       "      <td>16.412140</td>\n",
       "      <td>14.820000</td>\n",
       "      <td>73.029</td>\n",
       "      <td>159.0</td>\n",
       "      <td>1.541</td>\n",
       "      <td>0.280340</td>\n",
       "      <td>111.40</td>\n",
       "      <td>248486400.0</td>\n",
       "      <td>Argentina</td>\n",
       "      <td>0</td>\n",
       "    </tr>\n",
       "    <tr>\n",
       "      <th>3</th>\n",
       "      <td>1998</td>\n",
       "      <td>2.989480e+11</td>\n",
       "      <td>9126.0</td>\n",
       "      <td>15.014755</td>\n",
       "      <td>12.650000</td>\n",
       "      <td>73.213</td>\n",
       "      <td>142.0</td>\n",
       "      <td>1.326</td>\n",
       "      <td>0.830767</td>\n",
       "      <td>116.93</td>\n",
       "      <td>251332500.0</td>\n",
       "      <td>Argentina</td>\n",
       "      <td>0</td>\n",
       "    </tr>\n",
       "    <tr>\n",
       "      <th>4</th>\n",
       "      <td>1999</td>\n",
       "      <td>2.835230e+11</td>\n",
       "      <td>8546.0</td>\n",
       "      <td>15.078509</td>\n",
       "      <td>14.050000</td>\n",
       "      <td>73.396</td>\n",
       "      <td>586.0</td>\n",
       "      <td>1.355</td>\n",
       "      <td>3.284482</td>\n",
       "      <td>117.19</td>\n",
       "      <td>253748671.0</td>\n",
       "      <td>Argentina</td>\n",
       "      <td>0</td>\n",
       "    </tr>\n",
       "  </tbody>\n",
       "</table>\n",
       "</div>"
      ],
      "text/plain": [
       "   year      GDPpyear  GDPpcapita  employeecompensation  Unemployment  \\\n",
       "0  1995  2.580320e+11      8232.0             17.243447     18.799999   \n",
       "1  1996  2.721500e+11      8563.0             16.401037     17.110001   \n",
       "2  1997  2.928590e+11      9057.0             16.412140     14.820000   \n",
       "3  1998  2.989480e+11      9126.0             15.014755     12.650000   \n",
       "4  1999  2.835230e+11      8546.0             15.078509     14.050000   \n",
       "\n",
       "   Lifeexpectancy  Refugees  Selfemployed  Internetusers  Suicides  \\\n",
       "0          72.651     330.0         1.409       0.086277    119.97   \n",
       "1          72.843     217.0         1.665       0.141955    118.03   \n",
       "2          73.029     159.0         1.541       0.280340    111.40   \n",
       "3          73.213     142.0         1.326       0.830767    116.93   \n",
       "4          73.396     586.0         1.355       3.284482    117.19   \n",
       "\n",
       "    population    country  risk  \n",
       "0  243164200.0  Argentina     0  \n",
       "1  245997800.0  Argentina     0  \n",
       "2  248486400.0  Argentina     0  \n",
       "3  251332500.0  Argentina     0  \n",
       "4  253748671.0  Argentina     0  "
      ]
     },
     "execution_count": 24,
     "metadata": {},
     "output_type": "execute_result"
    }
   ],
   "source": [
    "total.head(5)"
   ]
  },
  {
   "cell_type": "code",
   "execution_count": 25,
   "id": "20af6194",
   "metadata": {},
   "outputs": [
    {
     "data": {
      "text/plain": [
       "Index(['year', 'GDPpyear', 'GDPpcapita', 'employeecompensation',\n",
       "       'Unemployment', 'Lifeexpectancy', 'Refugees', 'Selfemployed',\n",
       "       'Internetusers', 'Suicides', 'population', 'country', 'risk'],\n",
       "      dtype='object')"
      ]
     },
     "execution_count": 25,
     "metadata": {},
     "output_type": "execute_result"
    }
   ],
   "source": [
    "total.columns"
   ]
  },
  {
   "cell_type": "code",
   "execution_count": 26,
   "id": "24e67975",
   "metadata": {},
   "outputs": [
    {
     "data": {
      "text/plain": [
       "Text(0.5, 0, 'Suicides')"
      ]
     },
     "execution_count": 26,
     "metadata": {},
     "output_type": "execute_result"
    },
    {
     "data": {
      "image/png": "[encoded data removed]",
      "text/plain": [
       "<Figure size 1152x360 with 2 Axes>"
      ]
     },
     "metadata": {
      "needs_background": "light"
     },
     "output_type": "display_data"
    }
   ],
   "source": [
    "plt.figure(figsize=(16, 5))\n",
    "plt.subplot(121)\n",
    "plt.hist(total.risk)\n",
    "plt.ylabel('counts', fontsize=14)\n",
    "plt.xlabel('Suicide risk', fontsize=14)\n",
    "\n",
    "plt.subplot(122)\n",
    "sns.distplot(total.Suicides[total.risk == 0], bins=10)\n",
    "sns.distplot(total.Suicides[total.risk == 1], bins=20)  \n",
    "plt.xlabel('Suicides', fontsize=14)"
   ]
  },
  {
   "cell_type": "markdown",
   "id": "31174d09",
   "metadata": {},
   "source": [
    "<center>FIG.NO-6</center>"
   ]
  },
  {
   "cell_type": "markdown",
   "id": "5988ecc9",
   "metadata": {},
   "source": [
    "The risk is low in most of the cases as 0's are present more."
   ]
  },
  {
   "cell_type": "code",
   "execution_count": 27,
   "id": "1aaf0cf3",
   "metadata": {},
   "outputs": [
    {
     "data": {
      "text/plain": [
       "array([ 0,  1,  2,  3,  4,  5,  6,  7,  8,  9, 10, 11, 12, 13, 14, 15, 16,\n",
       "       17, 18, 19, 20, 21, 22, 23, 24, 25, 26, 27, 28, 29, 30, 31, 32, 33,\n",
       "       34, 35, 36, 37, 38, 39, 40])"
      ]
     },
     "execution_count": 27,
     "metadata": {},
     "output_type": "execute_result"
    }
   ],
   "source": [
    "# Label encoding countries\n",
    "\n",
    "from sklearn.preprocessing import LabelEncoder\n",
    "\n",
    "le = LabelEncoder()\n",
    "\n",
    "total.country = le.fit_transform(total.country)  # Alphabetic order [0:40]\n",
    "total.country.unique()"
   ]
  },
  {
   "cell_type": "code",
   "execution_count": 28,
   "id": "43edea94",
   "metadata": {},
   "outputs": [
    {
     "data": {
      "text/plain": [
       "array([0, 1])"
      ]
     },
     "execution_count": 28,
     "metadata": {},
     "output_type": "execute_result"
    }
   ],
   "source": [
    "total['risk'].unique()"
   ]
  },
  {
   "cell_type": "markdown",
   "id": "c635bcfb",
   "metadata": {},
   "source": [
    "# Preparing data for model building"
   ]
  },
  {
   "cell_type": "code",
   "execution_count": 29,
   "id": "2473f7f7",
   "metadata": {},
   "outputs": [],
   "source": [
    "# Preparing data for modeling\n",
    "\n",
    "X = total[totalfeatures]\n",
    "y = total['risk']\n",
    "\n",
    "\n",
    "# Applying standard scaler on data, since ML algorithms work with the assumption that the data is normally distributed\n",
    "\n",
    "scaler = StandardScaler()"
   ]
  },
  {
   "cell_type": "code",
   "execution_count": 30,
   "id": "f3212f06",
   "metadata": {},
   "outputs": [
    {
     "data": {
      "text/html": [
       "<div>\n",
       "<style scoped>\n",
       "    .dataframe tbody tr th:only-of-type {\n",
       "        vertical-align: middle;\n",
       "    }\n",
       "\n",
       "    .dataframe tbody tr th {\n",
       "        vertical-align: top;\n",
       "    }\n",
       "\n",
       "    .dataframe thead th {\n",
       "        text-align: right;\n",
       "    }\n",
       "</style>\n",
       "<table border=\"1\" class=\"dataframe\">\n",
       "  <thead>\n",
       "    <tr style=\"text-align: right;\">\n",
       "      <th></th>\n",
       "      <th>country</th>\n",
       "      <th>year</th>\n",
       "      <th>GDPpyear</th>\n",
       "      <th>GDPpcapita</th>\n",
       "      <th>employeecompensation</th>\n",
       "      <th>Unemployment</th>\n",
       "      <th>Lifeexpectancy</th>\n",
       "      <th>Refugees</th>\n",
       "      <th>Selfemployed</th>\n",
       "      <th>Internetusers</th>\n",
       "      <th>population</th>\n",
       "    </tr>\n",
       "  </thead>\n",
       "  <tbody>\n",
       "    <tr>\n",
       "      <th>0</th>\n",
       "      <td>0</td>\n",
       "      <td>1995</td>\n",
       "      <td>2.580320e+11</td>\n",
       "      <td>8232.0</td>\n",
       "      <td>17.243447</td>\n",
       "      <td>18.799999</td>\n",
       "      <td>72.651000</td>\n",
       "      <td>330.0</td>\n",
       "      <td>1.409</td>\n",
       "      <td>0.086277</td>\n",
       "      <td>2.431642e+08</td>\n",
       "    </tr>\n",
       "    <tr>\n",
       "      <th>1</th>\n",
       "      <td>0</td>\n",
       "      <td>1996</td>\n",
       "      <td>2.721500e+11</td>\n",
       "      <td>8563.0</td>\n",
       "      <td>16.401037</td>\n",
       "      <td>17.110001</td>\n",
       "      <td>72.843000</td>\n",
       "      <td>217.0</td>\n",
       "      <td>1.665</td>\n",
       "      <td>0.141955</td>\n",
       "      <td>2.459978e+08</td>\n",
       "    </tr>\n",
       "    <tr>\n",
       "      <th>2</th>\n",
       "      <td>0</td>\n",
       "      <td>1997</td>\n",
       "      <td>2.928590e+11</td>\n",
       "      <td>9057.0</td>\n",
       "      <td>16.412140</td>\n",
       "      <td>14.820000</td>\n",
       "      <td>73.029000</td>\n",
       "      <td>159.0</td>\n",
       "      <td>1.541</td>\n",
       "      <td>0.280340</td>\n",
       "      <td>2.484864e+08</td>\n",
       "    </tr>\n",
       "    <tr>\n",
       "      <th>3</th>\n",
       "      <td>0</td>\n",
       "      <td>1998</td>\n",
       "      <td>2.989480e+11</td>\n",
       "      <td>9126.0</td>\n",
       "      <td>15.014755</td>\n",
       "      <td>12.650000</td>\n",
       "      <td>73.213000</td>\n",
       "      <td>142.0</td>\n",
       "      <td>1.326</td>\n",
       "      <td>0.830767</td>\n",
       "      <td>2.513325e+08</td>\n",
       "    </tr>\n",
       "    <tr>\n",
       "      <th>4</th>\n",
       "      <td>0</td>\n",
       "      <td>1999</td>\n",
       "      <td>2.835230e+11</td>\n",
       "      <td>8546.0</td>\n",
       "      <td>15.078509</td>\n",
       "      <td>14.050000</td>\n",
       "      <td>73.396000</td>\n",
       "      <td>586.0</td>\n",
       "      <td>1.355</td>\n",
       "      <td>3.284482</td>\n",
       "      <td>2.537487e+08</td>\n",
       "    </tr>\n",
       "    <tr>\n",
       "      <th>...</th>\n",
       "      <td>...</td>\n",
       "      <td>...</td>\n",
       "      <td>...</td>\n",
       "      <td>...</td>\n",
       "      <td>...</td>\n",
       "      <td>...</td>\n",
       "      <td>...</td>\n",
       "      <td>...</td>\n",
       "      <td>...</td>\n",
       "      <td>...</td>\n",
       "      <td>...</td>\n",
       "    </tr>\n",
       "    <tr>\n",
       "      <th>763</th>\n",
       "      <td>40</td>\n",
       "      <td>2009</td>\n",
       "      <td>1.441870e+13</td>\n",
       "      <td>50563.0</td>\n",
       "      <td>9.894976</td>\n",
       "      <td>9.254000</td>\n",
       "      <td>78.390244</td>\n",
       "      <td>2368.0</td>\n",
       "      <td>0.065</td>\n",
       "      <td>71.000000</td>\n",
       "      <td>2.712631e+08</td>\n",
       "    </tr>\n",
       "    <tr>\n",
       "      <th>764</th>\n",
       "      <td>40</td>\n",
       "      <td>2010</td>\n",
       "      <td>1.496440e+13</td>\n",
       "      <td>51989.0</td>\n",
       "      <td>10.015809</td>\n",
       "      <td>9.633000</td>\n",
       "      <td>78.541463</td>\n",
       "      <td>3026.0</td>\n",
       "      <td>0.084</td>\n",
       "      <td>71.690000</td>\n",
       "      <td>2.712631e+08</td>\n",
       "    </tr>\n",
       "    <tr>\n",
       "      <th>765</th>\n",
       "      <td>40</td>\n",
       "      <td>2011</td>\n",
       "      <td>1.551790e+13</td>\n",
       "      <td>53452.0</td>\n",
       "      <td>10.132760</td>\n",
       "      <td>8.949000</td>\n",
       "      <td>78.641463</td>\n",
       "      <td>3778.0</td>\n",
       "      <td>0.076</td>\n",
       "      <td>69.729461</td>\n",
       "      <td>2.712631e+08</td>\n",
       "    </tr>\n",
       "    <tr>\n",
       "      <th>766</th>\n",
       "      <td>40</td>\n",
       "      <td>2012</td>\n",
       "      <td>1.615530e+13</td>\n",
       "      <td>55170.0</td>\n",
       "      <td>10.236160</td>\n",
       "      <td>8.069000</td>\n",
       "      <td>78.741463</td>\n",
       "      <td>4456.0</td>\n",
       "      <td>0.077</td>\n",
       "      <td>74.700000</td>\n",
       "      <td>2.712631e+08</td>\n",
       "    </tr>\n",
       "    <tr>\n",
       "      <th>767</th>\n",
       "      <td>40</td>\n",
       "      <td>2013</td>\n",
       "      <td>1.669150e+13</td>\n",
       "      <td>56520.0</td>\n",
       "      <td>10.048392</td>\n",
       "      <td>7.375000</td>\n",
       "      <td>78.741463</td>\n",
       "      <td>4760.0</td>\n",
       "      <td>0.070</td>\n",
       "      <td>71.400000</td>\n",
       "      <td>2.712631e+08</td>\n",
       "    </tr>\n",
       "  </tbody>\n",
       "</table>\n",
       "<p>768 rows × 11 columns</p>\n",
       "</div>"
      ],
      "text/plain": [
       "     country  year      GDPpyear  GDPpcapita  employeecompensation  \\\n",
       "0          0  1995  2.580320e+11      8232.0             17.243447   \n",
       "1          0  1996  2.721500e+11      8563.0             16.401037   \n",
       "2          0  1997  2.928590e+11      9057.0             16.412140   \n",
       "3          0  1998  2.989480e+11      9126.0             15.014755   \n",
       "4          0  1999  2.835230e+11      8546.0             15.078509   \n",
       "..       ...   ...           ...         ...                   ...   \n",
       "763       40  2009  1.441870e+13     50563.0              9.894976   \n",
       "764       40  2010  1.496440e+13     51989.0             10.015809   \n",
       "765       40  2011  1.551790e+13     53452.0             10.132760   \n",
       "766       40  2012  1.615530e+13     55170.0             10.236160   \n",
       "767       40  2013  1.669150e+13     56520.0             10.048392   \n",
       "\n",
       "     Unemployment  Lifeexpectancy  Refugees  Selfemployed  Internetusers  \\\n",
       "0       18.799999       72.651000     330.0         1.409       0.086277   \n",
       "1       17.110001       72.843000     217.0         1.665       0.141955   \n",
       "2       14.820000       73.029000     159.0         1.541       0.280340   \n",
       "3       12.650000       73.213000     142.0         1.326       0.830767   \n",
       "4       14.050000       73.396000     586.0         1.355       3.284482   \n",
       "..            ...             ...       ...           ...            ...   \n",
       "763      9.254000       78.390244    2368.0         0.065      71.000000   \n",
       "764      9.633000       78.541463    3026.0         0.084      71.690000   \n",
       "765      8.949000       78.641463    3778.0         0.076      69.729461   \n",
       "766      8.069000       78.741463    4456.0         0.077      74.700000   \n",
       "767      7.375000       78.741463    4760.0         0.070      71.400000   \n",
       "\n",
       "       population  \n",
       "0    2.431642e+08  \n",
       "1    2.459978e+08  \n",
       "2    2.484864e+08  \n",
       "3    2.513325e+08  \n",
       "4    2.537487e+08  \n",
       "..            ...  \n",
       "763  2.712631e+08  \n",
       "764  2.712631e+08  \n",
       "765  2.712631e+08  \n",
       "766  2.712631e+08  \n",
       "767  2.712631e+08  \n",
       "\n",
       "[768 rows x 11 columns]"
      ]
     },
     "execution_count": 30,
     "metadata": {},
     "output_type": "execute_result"
    }
   ],
   "source": [
    "X"
   ]
  },
  {
   "cell_type": "code",
   "execution_count": 31,
   "id": "29984cf6",
   "metadata": {},
   "outputs": [
    {
     "name": "stdout",
     "output_type": "stream",
     "text": [
      "Train set: (576, 11) (576,)\n",
      "Test set: (192, 11) (192,)\n"
     ]
    }
   ],
   "source": [
    "# Train-test split\n",
    "\n",
    "X_train, X_test, y_train, y_test = train_test_split(X, y, test_size=0.25, random_state=4)\n",
    "\n",
    "print('Train set:', X_train.shape, y_train.shape)\n",
    "print('Test set:', X_test.shape, y_test.shape)"
   ]
  },
  {
   "cell_type": "code",
   "execution_count": 32,
   "id": "65f1edff",
   "metadata": {},
   "outputs": [],
   "source": [
    "X_train = scaler.fit_transform(X_train)\n",
    "\n",
    "X_test = scaler.transform(X_test)\n"
   ]
  },
  {
   "cell_type": "code",
   "execution_count": 33,
   "id": "718a86b7",
   "metadata": {},
   "outputs": [],
   "source": [
    "X_train = pd.DataFrame(X_train,columns=X.columns)\n",
    "\n",
    "X_test = pd.DataFrame(X_test,columns=X.columns)"
   ]
  },
  {
   "cell_type": "code",
   "execution_count": 34,
   "id": "e01f1bfe",
   "metadata": {},
   "outputs": [
    {
     "data": {
      "text/html": [
       "<div>\n",
       "<style scoped>\n",
       "    .dataframe tbody tr th:only-of-type {\n",
       "        vertical-align: middle;\n",
       "    }\n",
       "\n",
       "    .dataframe tbody tr th {\n",
       "        vertical-align: top;\n",
       "    }\n",
       "\n",
       "    .dataframe thead th {\n",
       "        text-align: right;\n",
       "    }\n",
       "</style>\n",
       "<table border=\"1\" class=\"dataframe\">\n",
       "  <thead>\n",
       "    <tr style=\"text-align: right;\">\n",
       "      <th></th>\n",
       "      <th>country</th>\n",
       "      <th>year</th>\n",
       "      <th>GDPpyear</th>\n",
       "      <th>GDPpcapita</th>\n",
       "      <th>employeecompensation</th>\n",
       "      <th>Unemployment</th>\n",
       "      <th>Lifeexpectancy</th>\n",
       "      <th>Refugees</th>\n",
       "      <th>Selfemployed</th>\n",
       "      <th>Internetusers</th>\n",
       "      <th>population</th>\n",
       "    </tr>\n",
       "  </thead>\n",
       "  <tbody>\n",
       "    <tr>\n",
       "      <th>0</th>\n",
       "      <td>-0.925975</td>\n",
       "      <td>-1.253808</td>\n",
       "      <td>-0.378621</td>\n",
       "      <td>-1.026224</td>\n",
       "      <td>-0.022893</td>\n",
       "      <td>0.663960</td>\n",
       "      <td>-0.771033</td>\n",
       "      <td>-0.236169</td>\n",
       "      <td>0.548261</td>\n",
       "      <td>-1.163506</td>\n",
       "      <td>-1.397861</td>\n",
       "    </tr>\n",
       "    <tr>\n",
       "      <th>1</th>\n",
       "      <td>-1.011299</td>\n",
       "      <td>1.467343</td>\n",
       "      <td>-0.303014</td>\n",
       "      <td>-0.371619</td>\n",
       "      <td>0.700068</td>\n",
       "      <td>-0.380214</td>\n",
       "      <td>0.601516</td>\n",
       "      <td>-0.258050</td>\n",
       "      <td>0.051827</td>\n",
       "      <td>0.637086</td>\n",
       "      <td>1.364815</td>\n",
       "    </tr>\n",
       "    <tr>\n",
       "      <th>2</th>\n",
       "      <td>-1.608569</td>\n",
       "      <td>-0.528168</td>\n",
       "      <td>-0.427878</td>\n",
       "      <td>-1.148270</td>\n",
       "      <td>-0.022893</td>\n",
       "      <td>0.530414</td>\n",
       "      <td>-0.787416</td>\n",
       "      <td>-0.149897</td>\n",
       "      <td>3.605372</td>\n",
       "      <td>-1.127805</td>\n",
       "      <td>-0.342333</td>\n",
       "    </tr>\n",
       "    <tr>\n",
       "      <th>3</th>\n",
       "      <td>-1.693893</td>\n",
       "      <td>0.741703</td>\n",
       "      <td>-0.258518</td>\n",
       "      <td>-0.699818</td>\n",
       "      <td>-0.022893</td>\n",
       "      <td>-0.155796</td>\n",
       "      <td>-0.193881</td>\n",
       "      <td>-0.259925</td>\n",
       "      <td>-0.468705</td>\n",
       "      <td>-0.252890</td>\n",
       "      <td>0.712378</td>\n",
       "    </tr>\n",
       "    <tr>\n",
       "      <th>4</th>\n",
       "      <td>-1.437921</td>\n",
       "      <td>-1.435218</td>\n",
       "      <td>-0.317089</td>\n",
       "      <td>0.357212</td>\n",
       "      <td>-0.640072</td>\n",
       "      <td>-0.642734</td>\n",
       "      <td>0.167425</td>\n",
       "      <td>-0.277698</td>\n",
       "      <td>0.072723</td>\n",
       "      <td>-0.953425</td>\n",
       "      <td>-1.552915</td>\n",
       "    </tr>\n",
       "    <tr>\n",
       "      <th>...</th>\n",
       "      <td>...</td>\n",
       "      <td>...</td>\n",
       "      <td>...</td>\n",
       "      <td>...</td>\n",
       "      <td>...</td>\n",
       "      <td>...</td>\n",
       "      <td>...</td>\n",
       "      <td>...</td>\n",
       "      <td>...</td>\n",
       "      <td>...</td>\n",
       "      <td>...</td>\n",
       "    </tr>\n",
       "    <tr>\n",
       "      <th>571</th>\n",
       "      <td>-0.072733</td>\n",
       "      <td>-1.253808</td>\n",
       "      <td>-0.425320</td>\n",
       "      <td>0.292580</td>\n",
       "      <td>2.082460</td>\n",
       "      <td>-0.940118</td>\n",
       "      <td>0.546789</td>\n",
       "      <td>-0.278537</td>\n",
       "      <td>-0.530077</td>\n",
       "      <td>-0.273829</td>\n",
       "      <td>-1.397861</td>\n",
       "    </tr>\n",
       "    <tr>\n",
       "      <th>572</th>\n",
       "      <td>1.463103</td>\n",
       "      <td>1.285933</td>\n",
       "      <td>-0.415102</td>\n",
       "      <td>-0.870555</td>\n",
       "      <td>-0.022893</td>\n",
       "      <td>-0.891348</td>\n",
       "      <td>-1.704834</td>\n",
       "      <td>-0.265659</td>\n",
       "      <td>-0.168811</td>\n",
       "      <td>-1.016501</td>\n",
       "      <td>1.208222</td>\n",
       "    </tr>\n",
       "    <tr>\n",
       "      <th>573</th>\n",
       "      <td>0.268564</td>\n",
       "      <td>-0.709578</td>\n",
       "      <td>1.874016</td>\n",
       "      <td>0.800673</td>\n",
       "      <td>-1.304211</td>\n",
       "      <td>-0.753420</td>\n",
       "      <td>0.959313</td>\n",
       "      <td>-0.278537</td>\n",
       "      <td>0.388996</td>\n",
       "      <td>-0.190840</td>\n",
       "      <td>-0.540554</td>\n",
       "    </tr>\n",
       "    <tr>\n",
       "      <th>574</th>\n",
       "      <td>-0.925975</td>\n",
       "      <td>-0.528168</td>\n",
       "      <td>-0.382605</td>\n",
       "      <td>-1.047736</td>\n",
       "      <td>-0.022893</td>\n",
       "      <td>1.216434</td>\n",
       "      <td>-0.516069</td>\n",
       "      <td>0.041777</td>\n",
       "      <td>0.477100</td>\n",
       "      <td>-1.087395</td>\n",
       "      <td>-0.342333</td>\n",
       "    </tr>\n",
       "    <tr>\n",
       "      <th>575</th>\n",
       "      <td>-1.181948</td>\n",
       "      <td>0.378882</td>\n",
       "      <td>-0.412795</td>\n",
       "      <td>-0.951999</td>\n",
       "      <td>0.644150</td>\n",
       "      <td>0.056430</td>\n",
       "      <td>-0.634476</td>\n",
       "      <td>-0.217218</td>\n",
       "      <td>-0.363281</td>\n",
       "      <td>-0.286676</td>\n",
       "      <td>0.502114</td>\n",
       "    </tr>\n",
       "  </tbody>\n",
       "</table>\n",
       "<p>576 rows × 11 columns</p>\n",
       "</div>"
      ],
      "text/plain": [
       "      country      year  GDPpyear  GDPpcapita  employeecompensation  \\\n",
       "0   -0.925975 -1.253808 -0.378621   -1.026224             -0.022893   \n",
       "1   -1.011299  1.467343 -0.303014   -0.371619              0.700068   \n",
       "2   -1.608569 -0.528168 -0.427878   -1.148270             -0.022893   \n",
       "3   -1.693893  0.741703 -0.258518   -0.699818             -0.022893   \n",
       "4   -1.437921 -1.435218 -0.317089    0.357212             -0.640072   \n",
       "..        ...       ...       ...         ...                   ...   \n",
       "571 -0.072733 -1.253808 -0.425320    0.292580              2.082460   \n",
       "572  1.463103  1.285933 -0.415102   -0.870555             -0.022893   \n",
       "573  0.268564 -0.709578  1.874016    0.800673             -1.304211   \n",
       "574 -0.925975 -0.528168 -0.382605   -1.047736             -0.022893   \n",
       "575 -1.181948  0.378882 -0.412795   -0.951999              0.644150   \n",
       "\n",
       "     Unemployment  Lifeexpectancy  Refugees  Selfemployed  Internetusers  \\\n",
       "0        0.663960       -0.771033 -0.236169      0.548261      -1.163506   \n",
       "1       -0.380214        0.601516 -0.258050      0.051827       0.637086   \n",
       "2        0.530414       -0.787416 -0.149897      3.605372      -1.127805   \n",
       "3       -0.155796       -0.193881 -0.259925     -0.468705      -0.252890   \n",
       "4       -0.642734        0.167425 -0.277698      0.072723      -0.953425   \n",
       "..            ...             ...       ...           ...            ...   \n",
       "571     -0.940118        0.546789 -0.278537     -0.530077      -0.273829   \n",
       "572     -0.891348       -1.704834 -0.265659     -0.168811      -1.016501   \n",
       "573     -0.753420        0.959313 -0.278537      0.388996      -0.190840   \n",
       "574      1.216434       -0.516069  0.041777      0.477100      -1.087395   \n",
       "575      0.056430       -0.634476 -0.217218     -0.363281      -0.286676   \n",
       "\n",
       "     population  \n",
       "0     -1.397861  \n",
       "1      1.364815  \n",
       "2     -0.342333  \n",
       "3      0.712378  \n",
       "4     -1.552915  \n",
       "..          ...  \n",
       "571   -1.397861  \n",
       "572    1.208222  \n",
       "573   -0.540554  \n",
       "574   -0.342333  \n",
       "575    0.502114  \n",
       "\n",
       "[576 rows x 11 columns]"
      ]
     },
     "execution_count": 34,
     "metadata": {},
     "output_type": "execute_result"
    }
   ],
   "source": [
    "X_train"
   ]
  },
  {
   "cell_type": "markdown",
   "id": "9018905c",
   "metadata": {},
   "source": [
    "# RANDOM FOREST CLASSIFIER"
   ]
  },
  {
   "cell_type": "code",
   "execution_count": 35,
   "id": "c41c4b8e",
   "metadata": {},
   "outputs": [],
   "source": [
    "from sklearn.tree import DecisionTreeClassifier"
   ]
  },
  {
   "cell_type": "code",
   "execution_count": 36,
   "id": "44b1c115",
   "metadata": {},
   "outputs": [],
   "source": [
    "from sklearn.metrics import accuracy_score\n"
   ]
  },
  {
   "cell_type": "code",
   "execution_count": 37,
   "id": "b69d36ea",
   "metadata": {},
   "outputs": [],
   "source": [
    "from sklearn import tree"
   ]
  },
  {
   "cell_type": "code",
   "execution_count": 38,
   "id": "0c2f5faa",
   "metadata": {},
   "outputs": [
    {
     "name": "stdout",
     "output_type": "stream",
     "text": [
      "Model accuracy score with 10 decision-trees : 0.9740\n"
     ]
    }
   ],
   "source": [
    "# import Random Forest classifier\n",
    "\n",
    "from sklearn.ensemble import RandomForestClassifier\n",
    "\n",
    "\n",
    "\n",
    "# instantiate the classifier \n",
    "\n",
    "rfc = RandomForestClassifier(random_state=0)\n",
    "\n",
    "\n",
    "\n",
    "# fit the model\n",
    "\n",
    "rfc.fit(X_train, y_train)\n",
    "\n",
    "\n",
    "\n",
    "# Predict the Test set results\n",
    "\n",
    "y_pred = rfc.predict(X_test)\n",
    "\n",
    "\n",
    "\n",
    "# Check accuracy score \n",
    "\n",
    "from sklearn.metrics import accuracy_score\n",
    "\n",
    "print('Model accuracy score with 10 decision-trees : {0:0.4f}'. format(accuracy_score(y_test, y_pred)))"
   ]
  },
  {
   "cell_type": "code",
   "execution_count": 39,
   "id": "df332166",
   "metadata": {},
   "outputs": [
    {
     "name": "stdout",
     "output_type": "stream",
     "text": [
      "              precision    recall  f1-score   support\n",
      "\n",
      "           0       0.97      0.99      0.98       120\n",
      "           1       0.99      0.94      0.96        72\n",
      "\n",
      "    accuracy                           0.97       192\n",
      "   macro avg       0.98      0.97      0.97       192\n",
      "weighted avg       0.97      0.97      0.97       192\n",
      "\n"
     ]
    }
   ],
   "source": [
    "from sklearn.metrics import classification_report\n",
    "print(classification_report(y_test, y_pred))"
   ]
  },
  {
   "cell_type": "markdown",
   "id": "e171cf0b",
   "metadata": {},
   "source": [
    "Here, I have build the Random Forest Classifier model with default parameter of n_estimators = 10. So, I have used 10 decision-trees to build the model. Now, I will increase the number of decision-trees and see its effect on accuracy."
   ]
  },
  {
   "cell_type": "markdown",
   "id": "625e0381",
   "metadata": {},
   "source": [
    "# Random Forest Classifier model with parameter n_estimators=100 "
   ]
  },
  {
   "cell_type": "code",
   "execution_count": 40,
   "id": "49c82c0f",
   "metadata": {},
   "outputs": [
    {
     "name": "stdout",
     "output_type": "stream",
     "text": [
      "Model accuracy score with 100 decision-trees : 0.9740\n"
     ]
    }
   ],
   "source": [
    "# instantiate the classifier with n_estimators = 100\n",
    "\n",
    "rfc_100 = RandomForestClassifier(n_estimators=100, random_state=0)\n",
    "\n",
    "\n",
    "\n",
    "# fit the model to the training set\n",
    "\n",
    "rfc_100.fit(X_train, y_train)\n",
    "\n",
    "\n",
    "\n",
    "# Predict on the test set results\n",
    "\n",
    "y_pred_100 = rfc_100.predict(X_test)\n",
    "\n",
    "\n",
    "\n",
    "# Check accuracy score \n",
    "\n",
    "print('Model accuracy score with 100 decision-trees : {0:0.4f}'. format(accuracy_score(y_test, y_pred_100)))"
   ]
  },
  {
   "cell_type": "code",
   "execution_count": 41,
   "id": "99eefdbb",
   "metadata": {},
   "outputs": [
    {
     "name": "stdout",
     "output_type": "stream",
     "text": [
      "              precision    recall  f1-score   support\n",
      "\n",
      "           0       0.97      0.99      0.98       120\n",
      "           1       0.99      0.94      0.96        72\n",
      "\n",
      "    accuracy                           0.97       192\n",
      "   macro avg       0.98      0.97      0.97       192\n",
      "weighted avg       0.97      0.97      0.97       192\n",
      "\n"
     ]
    }
   ],
   "source": [
    "from sklearn.metrics import classification_report\n",
    "\n",
    "print(classification_report(y_test, y_pred_100))"
   ]
  },
  {
   "cell_type": "markdown",
   "id": "1c1fbaf4",
   "metadata": {},
   "source": [
    "The model accuracy score with 10 decision-trees is 0.9740 but the same with 100 decision-trees is also 0.9740. So, I expected that accuracy increases with number of decision-trees in the model.But it is like the model has converged to give the same accuracy."
   ]
  },
  {
   "cell_type": "markdown",
   "id": "471b1e89",
   "metadata": {},
   "source": [
    "# Finding Important Features"
   ]
  },
  {
   "cell_type": "code",
   "execution_count": 42,
   "id": "f72428ac",
   "metadata": {},
   "outputs": [
    {
     "data": {
      "text/plain": [
       "RandomForestClassifier(random_state=0)"
      ]
     },
     "execution_count": 42,
     "metadata": {},
     "output_type": "execute_result"
    }
   ],
   "source": [
    "# create the classifier with n_estimators = 100\n",
    "\n",
    "clf = RandomForestClassifier(n_estimators=100, random_state=0)\n",
    "\n",
    "\n",
    "\n",
    "# fit the model to the training set\n",
    "\n",
    "clf.fit(X_train, y_train)"
   ]
  },
  {
   "cell_type": "code",
   "execution_count": 43,
   "id": "cb299992",
   "metadata": {},
   "outputs": [
    {
     "data": {
      "text/plain": [
       "employeecompensation    0.153353\n",
       "Selfemployed            0.151982\n",
       "country                 0.150458\n",
       "Refugees                0.130861\n",
       "GDPpyear                0.126355\n",
       "GDPpcapita              0.072697\n",
       "Lifeexpectancy          0.070951\n",
       "Unemployment            0.051630\n",
       "Internetusers           0.045504\n",
       "year                    0.024888\n",
       "population              0.021321\n",
       "dtype: float64"
      ]
     },
     "execution_count": 43,
     "metadata": {},
     "output_type": "execute_result"
    }
   ],
   "source": [
    "# view the feature scores\n",
    "\n",
    "feature_scores = pd.Series(clf.feature_importances_, index=X_train.columns).sort_values(ascending=False)\n",
    "\n",
    "feature_scores"
   ]
  },
  {
   "cell_type": "code",
   "execution_count": 44,
   "id": "1f193731",
   "metadata": {},
   "outputs": [
    {
     "data": {
      "image/png": "[encoded data removed]",
      "text/plain": [
       "<Figure size 432x288 with 1 Axes>"
      ]
     },
     "metadata": {
      "needs_background": "light"
     },
     "output_type": "display_data"
    }
   ],
   "source": [
    "# Creating a seaborn bar plot\n",
    "\n",
    "sns.barplot(x=feature_scores, y=feature_scores.index)\n",
    "\n",
    "\n",
    "\n",
    "# Add labels to the graph\n",
    "\n",
    "plt.xlabel('Feature Importance Score')\n",
    "\n",
    "plt.ylabel('Features')\n",
    "\n",
    "\n",
    "\n",
    "# Add title to the graph\n",
    "\n",
    "plt.title(\"Visualizing Important Features\")\n",
    "\n",
    "\n",
    "\n",
    "# Visualize the graph\n",
    "\n",
    "plt.show()\n"
   ]
  },
  {
   "cell_type": "markdown",
   "id": "e396dde0",
   "metadata": {},
   "source": [
    "<center>FIG.NO-7</center>"
   ]
  },
  {
   "cell_type": "markdown",
   "id": "039d3483",
   "metadata": {},
   "source": [
    "We can see that the most important feature is employeecompensation and least important feature is population."
   ]
  },
  {
   "cell_type": "markdown",
   "id": "28b4e136",
   "metadata": {},
   "source": [
    "# Model with selected features"
   ]
  },
  {
   "cell_type": "code",
   "execution_count": 45,
   "id": "93688c4e",
   "metadata": {},
   "outputs": [],
   "source": [
    "# declare feature vector and target variable\n",
    "\n",
    "# Preparing data for modeling\n",
    "\n",
    "X = total.drop(['population','risk'],axis=1)\n",
    "y = total['risk']\n",
    "\n",
    "\n",
    "# Applying standard scaler on data, since ML algorithms work with the assumption that the data is normally distributed\n",
    "\n",
    "scaler = StandardScaler()\n",
    "\n"
   ]
  },
  {
   "cell_type": "code",
   "execution_count": 46,
   "id": "a0f913d4",
   "metadata": {},
   "outputs": [
    {
     "name": "stdout",
     "output_type": "stream",
     "text": [
      "Train set: (576, 11) (576,)\n",
      "Test set: (192, 11) (192,)\n"
     ]
    }
   ],
   "source": [
    "X_train, X_test, y_train, y_test = train_test_split(X, y, test_size=0.25, random_state=4)\n",
    "\n",
    "print('Train set:', X_train.shape, y_train.shape)\n",
    "print('Test set:', X_test.shape, y_test.shape)"
   ]
  },
  {
   "cell_type": "code",
   "execution_count": 47,
   "id": "96ed74ea",
   "metadata": {},
   "outputs": [],
   "source": [
    "X_train = scaler.fit_transform(X_train)\n",
    "\n",
    "X_test = scaler.transform(X_test)"
   ]
  },
  {
   "cell_type": "code",
   "execution_count": 48,
   "id": "c874b00e",
   "metadata": {},
   "outputs": [
    {
     "name": "stdout",
     "output_type": "stream",
     "text": [
      "Model accuracy score with 10 decision-trees : 1.0000\n"
     ]
    }
   ],
   "source": [
    "# instantiate the classifier \n",
    "\n",
    "rfc1 = RandomForestClassifier(random_state=0)\n",
    "\n",
    "\n",
    "\n",
    "# fit the model\n",
    "\n",
    "rfc1.fit(X_train, y_train)\n",
    "\n",
    "\n",
    "\n",
    "# Predict the Test set results\n",
    "\n",
    "y_pred1 = rfc1.predict(X_test)\n",
    "\n",
    "\n",
    "\n",
    "# Check accuracy score \n",
    "\n",
    "from sklearn.metrics import accuracy_score\n",
    "\n",
    "print('Model accuracy score with 10 decision-trees : {0:0.4f}'. format(accuracy_score(y_test, y_pred1)))"
   ]
  },
  {
   "cell_type": "code",
   "execution_count": 49,
   "id": "f3e30276",
   "metadata": {},
   "outputs": [
    {
     "name": "stdout",
     "output_type": "stream",
     "text": [
      "Model accuracy score with 100 decision-trees : 1.0000\n"
     ]
    }
   ],
   "source": [
    "# instantiate the classifier with n_estimators = 100\n",
    "\n",
    "rfc1_100 = RandomForestClassifier(n_estimators=100, random_state=0)\n",
    "\n",
    "\n",
    "\n",
    "# fit the model to the training set\n",
    "\n",
    "rfc1_100.fit(X_train, y_train)\n",
    "\n",
    "\n",
    "\n",
    "# Predict on the test set results\n",
    "\n",
    "y_pred1_100 = rfc1_100.predict(X_test)\n",
    "\n",
    "\n",
    "\n",
    "# Check accuracy score \n",
    "\n",
    "print('Model accuracy score with 100 decision-trees : {0:0.4f}'. format(accuracy_score(y_test, y_pred1_100)))"
   ]
  },
  {
   "cell_type": "code",
   "execution_count": 52,
   "id": "70713ad1",
   "metadata": {},
   "outputs": [
    {
     "name": "stdout",
     "output_type": "stream",
     "text": [
      "Confusion matrix\n",
      "\n",
      " [[120   0]\n",
      " [  0  72]]\n"
     ]
    }
   ],
   "source": [
    "# Print the Confusion Matrix and slice it into four pieces\n",
    "\n",
    "from sklearn.metrics import confusion_matrix\n",
    "\n",
    "cm = confusion_matrix(y_test, y_pred1_100)\n",
    "\n",
    "print('Confusion matrix\\n\\n', cm)"
   ]
  },
  {
   "cell_type": "code",
   "execution_count": 53,
   "id": "63dc286a",
   "metadata": {},
   "outputs": [
    {
     "name": "stdout",
     "output_type": "stream",
     "text": [
      "              precision    recall  f1-score   support\n",
      "\n",
      "           0       1.00      1.00      1.00       120\n",
      "           1       1.00      1.00      1.00        72\n",
      "\n",
      "    accuracy                           1.00       192\n",
      "   macro avg       1.00      1.00      1.00       192\n",
      "weighted avg       1.00      1.00      1.00       192\n",
      "\n"
     ]
    }
   ],
   "source": [
    "from sklearn.metrics import classification_report\n",
    "\n",
    "print(classification_report(y_test, y_pred1_100))"
   ]
  },
  {
   "cell_type": "markdown",
   "id": "581fa3a4",
   "metadata": {},
   "source": [
    "I have removed the 'population' variable from the model, rebuild it and checked its accuracy.\n",
    "\n",
    "The accuracy of the model with population variable removed is 1.0000.\n",
    "\n",
    "The accuracy of the model with all the variables taken into account is 0.9740.\n",
    "\n",
    "So, we can see that the model accuracy has been improved with 'population' variable removed from the model."
   ]
  },
  {
   "cell_type": "markdown",
   "id": "c559c181",
   "metadata": {},
   "source": [
    "# K-fold Validation"
   ]
  },
  {
   "cell_type": "code",
   "execution_count": 62,
   "id": "6603bd7c",
   "metadata": {},
   "outputs": [],
   "source": [
    "from sklearn.model_selection import KFold"
   ]
  },
  {
   "cell_type": "code",
   "execution_count": 64,
   "id": "1791116d",
   "metadata": {},
   "outputs": [],
   "source": [
    "from sklearn.model_selection import cross_val_score"
   ]
  },
  {
   "cell_type": "code",
   "execution_count": 67,
   "id": "13cc29b7",
   "metadata": {},
   "outputs": [],
   "source": [
    "\n",
    "from sklearn.model_selection import cross_val_predict"
   ]
  },
  {
   "cell_type": "code",
   "execution_count": 75,
   "id": "1555b903",
   "metadata": {},
   "outputs": [],
   "source": [
    "X_train = pd.DataFrame(X_train,columns=X.columns)\n",
    "\n",
    "X_test = pd.DataFrame(X_test,columns=X.columns)"
   ]
  },
  {
   "cell_type": "code",
   "execution_count": 86,
   "id": "ccddab9d",
   "metadata": {},
   "outputs": [
    {
     "data": {
      "text/plain": [
       "array([1., 1., 1., 1., 1., 1., 1., 1., 1., 1.])"
      ]
     },
     "execution_count": 86,
     "metadata": {},
     "output_type": "execute_result"
    }
   ],
   "source": [
    "# K-fold CV\n",
    "#importing cross val score function\n",
    "from sklearn.model_selection import cross_val_score\n",
    "#10-fold CV\n",
    "scores = cross_val_score(rfc, X_train, y_train, scoring = 'r2', cv = 10)\n",
    "scores"
   ]
  },
  {
   "cell_type": "code",
   "execution_count": 87,
   "id": "2f8a6101",
   "metadata": {},
   "outputs": [
    {
     "name": "stdout",
     "output_type": "stream",
     "text": [
      "1.0\n"
     ]
    }
   ],
   "source": [
    "#printing the average score\n",
    "print(np.mean(scores))"
   ]
  },
  {
   "cell_type": "code",
   "execution_count": 88,
   "id": "56b4e82b",
   "metadata": {},
   "outputs": [
    {
     "data": {
      "text/plain": [
       "array([1., 1., 1., 1., 1., 1., 1., 1., 1., 1.])"
      ]
     },
     "execution_count": 88,
     "metadata": {},
     "output_type": "execute_result"
    }
   ],
   "source": [
    "#10-fodl CV on test data\n",
    "scores_test = cross_val_score(rfc, X_test, y_test, cv = 10)\n",
    "scores_test"
   ]
  },
  {
   "cell_type": "code",
   "execution_count": 89,
   "id": "fc25cdae",
   "metadata": {},
   "outputs": [
    {
     "name": "stdout",
     "output_type": "stream",
     "text": [
      "1.0\n"
     ]
    }
   ],
   "source": [
    "#average score\n",
    "print(np.mean(scores_test))"
   ]
  },
  {
   "cell_type": "code",
   "execution_count": 94,
   "id": "15f955e0",
   "metadata": {},
   "outputs": [],
   "source": [
    "data ={'rfc':97.40,'rfc_100':97.40,'rfc1':100,'rfc1_100':100,'kfold-cv':100}\n",
    "models=list(data.keys())\n",
    "accuracy=list(data.values())"
   ]
  },
  {
   "cell_type": "code",
   "execution_count": 99,
   "id": "bd4e3c10",
   "metadata": {},
   "outputs": [
    {
     "data": {
      "image/png": "[encoded data removed]",
      "text/plain": [
       "<Figure size 1440x576 with 1 Axes>"
      ]
     },
     "metadata": {
      "needs_background": "light"
     },
     "output_type": "display_data"
    }
   ],
   "source": [
    "fig=plt.figure(figsize=(20,8))\n",
    "plt.bar(models,accuracy,width=0.4)\n",
    "plt.xlabel(\"MODELS\")\n",
    "plt.ylabel(\"ACCURACY\")\n",
    "plt.title(\"MODELS WITH ACCURACY\")\n",
    "plt.show()"
   ]
  },
  {
   "cell_type": "markdown",
   "id": "1d94300d",
   "metadata": {},
   "source": [
    "<center>FIG.NO-8</center>"
   ]
  },
  {
   "cell_type": "markdown",
   "id": "ce260a04",
   "metadata": {},
   "source": [
    "# PRECISION AND RECALL ANALYSIS"
   ]
  },
  {
   "cell_type": "markdown",
   "id": "c89afcd1",
   "metadata": {},
   "source": [
    "Precision: Accuracy of positive predictions.\n",
    "\n",
    "Recall: Percent of positive cases the model get.\n",
    "\n",
    "Since we are dealing with imbalanced dataset for classification, we will use macro average for precision and recall since it treats all classes equally."
   ]
  },
  {
   "cell_type": "markdown",
   "id": "33ad4735",
   "metadata": {},
   "source": [
    "RANDOM FOREST CLASSIFIER WITH 10 DECISON TREES:\n",
    "    \n",
    "    Precision:0.98\n",
    "        \n",
    "    Recall:0.97\n",
    "\n",
    "RANDOM FOREST CLASSIFIER WITH 100 DECISON TREES:\n",
    "    \n",
    "    Precision:0.98\n",
    "        \n",
    "    Recall:0.97\n",
    "        \n",
    "RANDOM FOREST CLASSIFIER WITH SELECTED FEATURES AND 100 DECISON TREES:\n",
    "    \n",
    "    Precision:1.00\n",
    "        \n",
    "    Recall:1.00"
   ]
  },
  {
   "cell_type": "markdown",
   "id": "b44432e9",
   "metadata": {},
   "source": [
    "# RESULTS & CONCLUSION"
   ]
  },
  {
   "cell_type": "markdown",
   "id": "1a1a55af",
   "metadata": {},
   "source": [
    "1.I build a Random Forest Classifier to predict the risk of suicide attacks.\n",
    "\n",
    "2.I build two models, one with 10 decision-trees and another one with 100 decision-trees.\n",
    "\n",
    "3.The model accuracy score with both 10 decision-trees and 100 decision-trees is 0.9740. \n",
    "\n",
    "4.I expected that the accuracy increases with number of decision-trees in the model.But it is seemed to be converged in our case.\n",
    "\n",
    "4.I have used the Random Forest model to find only the important features, build the model using these features and see its effect on accuracy. \n",
    "\n",
    "5.The most important feature is 'employeecompensation' and least important feature is 'population'.\n",
    "\n",
    "6.I have removed the 'population' variable from the model, rebuild it and checked its accuracy. The accuracy of the model with 'population' variable removed is 1.000. \n",
    "\n",
    "7.The accuracy of the model with all the variables taken into account is 0.9740. So, we can see that the model accuracy has been improved with  variable removed from the model.\n",
    "\n",
    "8.10 fold cross validation has been carried out with decision tree with random parameters to meet some improvements.As expected, the accuracy was improved by performing kfold validation(Mean-score=1.0)\n",
    "\n",
    "9.Confusion matrix and classification report are another tool to visualize the model performance. They yield good performance.\n",
    "\n",
    "10.The precision and recall values are same for both the classifiers with 10 and 100 trees. But with randomclassifier of selected features, we get 100% accuracy."
   ]
  }
 ],
 "metadata": {
  "kernelspec": {
   "display_name": "Python 3 (ipykernel)",
   "language": "python",
   "name": "python3"
  },
  "language_info": {
   "codemirror_mode": {
    "name": "ipython",
    "version": 3
   },
   "file_extension": ".py",
   "mimetype": "text/x-python",
   "name": "python",
   "nbconvert_exporter": "python",
   "pygments_lexer": "ipython3",
   "version": "3.9.12"
  }
 },
 "nbformat": 4,
 "nbformat_minor": 5
}
